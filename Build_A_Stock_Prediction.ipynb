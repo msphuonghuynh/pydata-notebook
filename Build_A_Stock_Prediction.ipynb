{
  "nbformat": 4,
  "nbformat_minor": 0,
  "metadata": {
    "colab": {
      "name": "Build A Stock Prediction.ipynb",
      "provenance": [],
      "include_colab_link": true
    },
    "kernelspec": {
      "name": "python3",
      "display_name": "Python 3"
    }
  },
  "cells": [
    {
      "cell_type": "markdown",
      "metadata": {
        "id": "view-in-github",
        "colab_type": "text"
      },
      "source": [
        "<a href=\"https://colab.research.google.com/github/msphuonghuynh/pydata-notebook/blob/master/Build_A_Stock_Prediction.ipynb\" target=\"_parent\"><img src=\"https://colab.research.google.com/assets/colab-badge.svg\" alt=\"Open In Colab\"/></a>"
      ]
    },
    {
      "cell_type": "markdown",
      "metadata": {
        "id": "kEfkI_sbkf2h"
      },
      "source": [
        "https://www.youtube.com/watch?v=EYnC4ACIt2g"
      ]
    },
    {
      "cell_type": "code",
      "metadata": {
        "colab": {
          "base_uri": "https://localhost:8080/"
        },
        "id": "XuONXAXmtVlP",
        "outputId": "578ca54c-d0df-42dc-edb1-3460dbbaec48"
      },
      "source": [
        "pip install quandl"
      ],
      "execution_count": 67,
      "outputs": [
        {
          "output_type": "stream",
          "text": [
            "Requirement already satisfied: quandl in /usr/local/lib/python3.6/dist-packages (3.6.0)\n",
            "Requirement already satisfied: python-dateutil in /usr/local/lib/python3.6/dist-packages (from quandl) (2.8.1)\n",
            "Requirement already satisfied: more-itertools in /usr/local/lib/python3.6/dist-packages (from quandl) (8.6.0)\n",
            "Requirement already satisfied: numpy>=1.8 in /usr/local/lib/python3.6/dist-packages (from quandl) (1.19.5)\n",
            "Requirement already satisfied: six in /usr/local/lib/python3.6/dist-packages (from quandl) (1.15.0)\n",
            "Requirement already satisfied: pandas>=0.14 in /usr/local/lib/python3.6/dist-packages (from quandl) (1.1.5)\n",
            "Requirement already satisfied: inflection>=0.3.1 in /usr/local/lib/python3.6/dist-packages (from quandl) (0.5.1)\n",
            "Requirement already satisfied: requests>=2.7.0 in /usr/local/lib/python3.6/dist-packages (from quandl) (2.23.0)\n",
            "Requirement already satisfied: pytz>=2017.2 in /usr/local/lib/python3.6/dist-packages (from pandas>=0.14->quandl) (2018.9)\n",
            "Requirement already satisfied: idna<3,>=2.5 in /usr/local/lib/python3.6/dist-packages (from requests>=2.7.0->quandl) (2.10)\n",
            "Requirement already satisfied: certifi>=2017.4.17 in /usr/local/lib/python3.6/dist-packages (from requests>=2.7.0->quandl) (2020.12.5)\n",
            "Requirement already satisfied: chardet<4,>=3.0.2 in /usr/local/lib/python3.6/dist-packages (from requests>=2.7.0->quandl) (3.0.4)\n",
            "Requirement already satisfied: urllib3!=1.25.0,!=1.25.1,<1.26,>=1.21.1 in /usr/local/lib/python3.6/dist-packages (from requests>=2.7.0->quandl) (1.24.3)\n"
          ],
          "name": "stdout"
        }
      ]
    },
    {
      "cell_type": "code",
      "metadata": {
        "id": "9uKovgSClA7B"
      },
      "source": [
        "import quandl\r\n",
        "import numpy as np\r\n",
        "from sklearn.linear_model import LinearRegression\r\n",
        "from sklearn.svm import SVR\r\n",
        "from sklearn.model_selection import train_test_split"
      ],
      "execution_count": 68,
      "outputs": []
    },
    {
      "cell_type": "code",
      "metadata": {
        "colab": {
          "base_uri": "https://localhost:8080/"
        },
        "id": "9CD5-EM7uGua",
        "outputId": "07b984c0-91a8-4145-b7e2-9faa3b8b433c"
      },
      "source": [
        "df = quandl.get(\"WIKI/FB\")\r\n",
        "print(df.head())"
      ],
      "execution_count": 69,
      "outputs": [
        {
          "output_type": "stream",
          "text": [
            "             Open   High    Low  ...  Adj. Low  Adj. Close  Adj. Volume\n",
            "Date                             ...                                   \n",
            "2012-05-18  42.05  45.00  38.00  ...     38.00     38.2318  573576400.0\n",
            "2012-05-21  36.53  36.66  33.00  ...     33.00     34.0300  168192700.0\n",
            "2012-05-22  32.61  33.59  30.94  ...     30.94     31.0000  101786600.0\n",
            "2012-05-23  31.37  32.50  31.36  ...     31.36     32.0000   73600000.0\n",
            "2012-05-24  32.95  33.21  31.77  ...     31.77     33.0300   50237200.0\n",
            "\n",
            "[5 rows x 12 columns]\n"
          ],
          "name": "stdout"
        }
      ]
    },
    {
      "cell_type": "code",
      "metadata": {
        "colab": {
          "base_uri": "https://localhost:8080/"
        },
        "id": "3b7skX4TLjaQ",
        "outputId": "8ec337cd-89e3-4109-9d9f-efd3649689c4"
      },
      "source": [
        "# Check the current directory and print it out\r\n",
        "import os\r\n",
        "print( os.getcwd() )"
      ],
      "execution_count": 70,
      "outputs": [
        {
          "output_type": "stream",
          "text": [
            "/content\n"
          ],
          "name": "stdout"
        }
      ]
    },
    {
      "cell_type": "code",
      "metadata": {
        "colab": {
          "base_uri": "https://localhost:8080/"
        },
        "id": "x_KL7VyLbh0z",
        "outputId": "fd7b5ddd-efea-414f-d35b-4b168290a382"
      },
      "source": [
        "# Mount the Google drive to talk with the root of colab\r\n",
        "from google.colab import drive\r\n",
        "drive.mount('/content/gdrive')"
      ],
      "execution_count": 71,
      "outputs": [
        {
          "output_type": "stream",
          "text": [
            "Drive already mounted at /content/gdrive; to attempt to forcibly remount, call drive.mount(\"/content/gdrive\", force_remount=True).\n"
          ],
          "name": "stdout"
        }
      ]
    },
    {
      "cell_type": "code",
      "metadata": {
        "colab": {
          "base_uri": "https://localhost:8080/"
        },
        "id": "bpiUK5WEcobK",
        "outputId": "5468179c-9e04-4c11-8d99-92cc5e3ef506"
      },
      "source": [
        "# Check the current directory and print it out\r\n",
        "print( os.getcwd() )"
      ],
      "execution_count": 72,
      "outputs": [
        {
          "output_type": "stream",
          "text": [
            "/content\n"
          ],
          "name": "stdout"
        }
      ]
    },
    {
      "cell_type": "code",
      "metadata": {
        "id": "T-J6mfxxbiQz"
      },
      "source": [
        "# Save dataframe to the root\r\n",
        "df.to_csv('data.csv')"
      ],
      "execution_count": 73,
      "outputs": []
    },
    {
      "cell_type": "code",
      "metadata": {
        "id": "qPVAxYjObiXS"
      },
      "source": [
        "# Transfer data from root to Google Drive\r\n",
        "!cp data.csv \"/content/gdrive/My Drive\""
      ],
      "execution_count": 74,
      "outputs": []
    },
    {
      "cell_type": "code",
      "metadata": {
        "id": "6WKUEvrMTapx"
      },
      "source": [
        "# an example of writing a string\r\n",
        "with open('/content/gdrive/My Drive/file.txt', 'w') as f:\r\n",
        "  f.write(\"content\")\r\n",
        "# end this example"
      ],
      "execution_count": 75,
      "outputs": []
    },
    {
      "cell_type": "code",
      "metadata": {
        "id": "TdYhmZXYgBD9"
      },
      "source": [
        "# Call the dataframe from the google drive\r\n",
        "df2 = pd.read_csv(\"/content/gdrive/My Drive/data.csv\")"
      ],
      "execution_count": 76,
      "outputs": []
    },
    {
      "cell_type": "code",
      "metadata": {
        "colab": {
          "base_uri": "https://localhost:8080/",
          "height": 455
        },
        "id": "Np6lTCb57CFQ",
        "outputId": "1955ecf0-fe54-47ec-dea5-064de8a656d4"
      },
      "source": [
        "df = df2\r\n",
        "df=df.set_index('Date')\r\n",
        "df"
      ],
      "execution_count": 77,
      "outputs": [
        {
          "output_type": "execute_result",
          "data": {
            "text/html": [
              "<div>\n",
              "<style scoped>\n",
              "    .dataframe tbody tr th:only-of-type {\n",
              "        vertical-align: middle;\n",
              "    }\n",
              "\n",
              "    .dataframe tbody tr th {\n",
              "        vertical-align: top;\n",
              "    }\n",
              "\n",
              "    .dataframe thead th {\n",
              "        text-align: right;\n",
              "    }\n",
              "</style>\n",
              "<table border=\"1\" class=\"dataframe\">\n",
              "  <thead>\n",
              "    <tr style=\"text-align: right;\">\n",
              "      <th></th>\n",
              "      <th>Open</th>\n",
              "      <th>High</th>\n",
              "      <th>Low</th>\n",
              "      <th>Close</th>\n",
              "      <th>Volume</th>\n",
              "      <th>Ex-Dividend</th>\n",
              "      <th>Split Ratio</th>\n",
              "      <th>Adj. Open</th>\n",
              "      <th>Adj. High</th>\n",
              "      <th>Adj. Low</th>\n",
              "      <th>Adj. Close</th>\n",
              "      <th>Adj. Volume</th>\n",
              "    </tr>\n",
              "    <tr>\n",
              "      <th>Date</th>\n",
              "      <th></th>\n",
              "      <th></th>\n",
              "      <th></th>\n",
              "      <th></th>\n",
              "      <th></th>\n",
              "      <th></th>\n",
              "      <th></th>\n",
              "      <th></th>\n",
              "      <th></th>\n",
              "      <th></th>\n",
              "      <th></th>\n",
              "      <th></th>\n",
              "    </tr>\n",
              "  </thead>\n",
              "  <tbody>\n",
              "    <tr>\n",
              "      <th>2012-05-18</th>\n",
              "      <td>42.05</td>\n",
              "      <td>45.00</td>\n",
              "      <td>38.00</td>\n",
              "      <td>38.2318</td>\n",
              "      <td>573576400.0</td>\n",
              "      <td>0.0</td>\n",
              "      <td>1.0</td>\n",
              "      <td>42.05</td>\n",
              "      <td>45.00</td>\n",
              "      <td>38.00</td>\n",
              "      <td>38.2318</td>\n",
              "      <td>573576400.0</td>\n",
              "    </tr>\n",
              "    <tr>\n",
              "      <th>2012-05-21</th>\n",
              "      <td>36.53</td>\n",
              "      <td>36.66</td>\n",
              "      <td>33.00</td>\n",
              "      <td>34.0300</td>\n",
              "      <td>168192700.0</td>\n",
              "      <td>0.0</td>\n",
              "      <td>1.0</td>\n",
              "      <td>36.53</td>\n",
              "      <td>36.66</td>\n",
              "      <td>33.00</td>\n",
              "      <td>34.0300</td>\n",
              "      <td>168192700.0</td>\n",
              "    </tr>\n",
              "    <tr>\n",
              "      <th>2012-05-22</th>\n",
              "      <td>32.61</td>\n",
              "      <td>33.59</td>\n",
              "      <td>30.94</td>\n",
              "      <td>31.0000</td>\n",
              "      <td>101786600.0</td>\n",
              "      <td>0.0</td>\n",
              "      <td>1.0</td>\n",
              "      <td>32.61</td>\n",
              "      <td>33.59</td>\n",
              "      <td>30.94</td>\n",
              "      <td>31.0000</td>\n",
              "      <td>101786600.0</td>\n",
              "    </tr>\n",
              "    <tr>\n",
              "      <th>2012-05-23</th>\n",
              "      <td>31.37</td>\n",
              "      <td>32.50</td>\n",
              "      <td>31.36</td>\n",
              "      <td>32.0000</td>\n",
              "      <td>73600000.0</td>\n",
              "      <td>0.0</td>\n",
              "      <td>1.0</td>\n",
              "      <td>31.37</td>\n",
              "      <td>32.50</td>\n",
              "      <td>31.36</td>\n",
              "      <td>32.0000</td>\n",
              "      <td>73600000.0</td>\n",
              "    </tr>\n",
              "    <tr>\n",
              "      <th>2012-05-24</th>\n",
              "      <td>32.95</td>\n",
              "      <td>33.21</td>\n",
              "      <td>31.77</td>\n",
              "      <td>33.0300</td>\n",
              "      <td>50237200.0</td>\n",
              "      <td>0.0</td>\n",
              "      <td>1.0</td>\n",
              "      <td>32.95</td>\n",
              "      <td>33.21</td>\n",
              "      <td>31.77</td>\n",
              "      <td>33.0300</td>\n",
              "      <td>50237200.0</td>\n",
              "    </tr>\n",
              "    <tr>\n",
              "      <th>...</th>\n",
              "      <td>...</td>\n",
              "      <td>...</td>\n",
              "      <td>...</td>\n",
              "      <td>...</td>\n",
              "      <td>...</td>\n",
              "      <td>...</td>\n",
              "      <td>...</td>\n",
              "      <td>...</td>\n",
              "      <td>...</td>\n",
              "      <td>...</td>\n",
              "      <td>...</td>\n",
              "      <td>...</td>\n",
              "    </tr>\n",
              "    <tr>\n",
              "      <th>2018-03-21</th>\n",
              "      <td>164.80</td>\n",
              "      <td>173.40</td>\n",
              "      <td>163.30</td>\n",
              "      <td>169.3900</td>\n",
              "      <td>105350867.0</td>\n",
              "      <td>0.0</td>\n",
              "      <td>1.0</td>\n",
              "      <td>164.80</td>\n",
              "      <td>173.40</td>\n",
              "      <td>163.30</td>\n",
              "      <td>169.3900</td>\n",
              "      <td>105350867.0</td>\n",
              "    </tr>\n",
              "    <tr>\n",
              "      <th>2018-03-22</th>\n",
              "      <td>166.13</td>\n",
              "      <td>170.27</td>\n",
              "      <td>163.72</td>\n",
              "      <td>164.8900</td>\n",
              "      <td>73389988.0</td>\n",
              "      <td>0.0</td>\n",
              "      <td>1.0</td>\n",
              "      <td>166.13</td>\n",
              "      <td>170.27</td>\n",
              "      <td>163.72</td>\n",
              "      <td>164.8900</td>\n",
              "      <td>73389988.0</td>\n",
              "    </tr>\n",
              "    <tr>\n",
              "      <th>2018-03-23</th>\n",
              "      <td>165.44</td>\n",
              "      <td>167.10</td>\n",
              "      <td>159.02</td>\n",
              "      <td>159.3900</td>\n",
              "      <td>52306891.0</td>\n",
              "      <td>0.0</td>\n",
              "      <td>1.0</td>\n",
              "      <td>165.44</td>\n",
              "      <td>167.10</td>\n",
              "      <td>159.02</td>\n",
              "      <td>159.3900</td>\n",
              "      <td>52306891.0</td>\n",
              "    </tr>\n",
              "    <tr>\n",
              "      <th>2018-03-26</th>\n",
              "      <td>160.82</td>\n",
              "      <td>161.10</td>\n",
              "      <td>149.02</td>\n",
              "      <td>160.0600</td>\n",
              "      <td>125438294.0</td>\n",
              "      <td>0.0</td>\n",
              "      <td>1.0</td>\n",
              "      <td>160.82</td>\n",
              "      <td>161.10</td>\n",
              "      <td>149.02</td>\n",
              "      <td>160.0600</td>\n",
              "      <td>125438294.0</td>\n",
              "    </tr>\n",
              "    <tr>\n",
              "      <th>2018-03-27</th>\n",
              "      <td>156.31</td>\n",
              "      <td>162.85</td>\n",
              "      <td>150.75</td>\n",
              "      <td>152.1900</td>\n",
              "      <td>76787884.0</td>\n",
              "      <td>0.0</td>\n",
              "      <td>1.0</td>\n",
              "      <td>156.31</td>\n",
              "      <td>162.85</td>\n",
              "      <td>150.75</td>\n",
              "      <td>152.1900</td>\n",
              "      <td>76787884.0</td>\n",
              "    </tr>\n",
              "  </tbody>\n",
              "</table>\n",
              "<p>1472 rows × 12 columns</p>\n",
              "</div>"
            ],
            "text/plain": [
              "              Open    High     Low  ...  Adj. Low  Adj. Close  Adj. Volume\n",
              "Date                                ...                                   \n",
              "2012-05-18   42.05   45.00   38.00  ...     38.00     38.2318  573576400.0\n",
              "2012-05-21   36.53   36.66   33.00  ...     33.00     34.0300  168192700.0\n",
              "2012-05-22   32.61   33.59   30.94  ...     30.94     31.0000  101786600.0\n",
              "2012-05-23   31.37   32.50   31.36  ...     31.36     32.0000   73600000.0\n",
              "2012-05-24   32.95   33.21   31.77  ...     31.77     33.0300   50237200.0\n",
              "...            ...     ...     ...  ...       ...         ...          ...\n",
              "2018-03-21  164.80  173.40  163.30  ...    163.30    169.3900  105350867.0\n",
              "2018-03-22  166.13  170.27  163.72  ...    163.72    164.8900   73389988.0\n",
              "2018-03-23  165.44  167.10  159.02  ...    159.02    159.3900   52306891.0\n",
              "2018-03-26  160.82  161.10  149.02  ...    149.02    160.0600  125438294.0\n",
              "2018-03-27  156.31  162.85  150.75  ...    150.75    152.1900   76787884.0\n",
              "\n",
              "[1472 rows x 12 columns]"
            ]
          },
          "metadata": {
            "tags": []
          },
          "execution_count": 77
        }
      ]
    },
    {
      "cell_type": "code",
      "metadata": {
        "colab": {
          "base_uri": "https://localhost:8080/"
        },
        "id": "LcbmEQp_t4BC",
        "outputId": "31110432-62ab-4c89-8b85-649cccb6f1d1"
      },
      "source": [
        "df = df[['Adj. Close']]\r\n",
        "print(df.head())"
      ],
      "execution_count": 78,
      "outputs": [
        {
          "output_type": "stream",
          "text": [
            "            Adj. Close\n",
            "Date                  \n",
            "2012-05-18     38.2318\n",
            "2012-05-21     34.0300\n",
            "2012-05-22     31.0000\n",
            "2012-05-23     32.0000\n",
            "2012-05-24     33.0300\n"
          ],
          "name": "stdout"
        }
      ]
    },
    {
      "cell_type": "code",
      "metadata": {
        "colab": {
          "base_uri": "https://localhost:8080/"
        },
        "id": "SX_cBWrcvz3e",
        "outputId": "f7d8aa7d-fcab-4fad-e2c9-b9644bd2fd3c"
      },
      "source": [
        "# A variable for predicting 'n' days out into the future\r\n",
        "forecast_out = 30\r\n",
        "# Create another column (the target or dependent variable) shifted 'n' units up\r\n",
        "df['Prediction'] = df[['Adj. Close']].shift(-forecast_out)\r\n",
        "# Print(df.head())\r\n",
        "print(df.head())"
      ],
      "execution_count": 79,
      "outputs": [
        {
          "output_type": "stream",
          "text": [
            "            Adj. Close  Prediction\n",
            "Date                              \n",
            "2012-05-18     38.2318      30.771\n",
            "2012-05-21     34.0300      31.200\n",
            "2012-05-22     31.0000      31.470\n",
            "2012-05-23     32.0000      31.730\n",
            "2012-05-24     33.0300      32.170\n"
          ],
          "name": "stdout"
        },
        {
          "output_type": "stream",
          "text": [
            "/usr/local/lib/python3.6/dist-packages/ipykernel_launcher.py:4: SettingWithCopyWarning: \n",
            "A value is trying to be set on a copy of a slice from a DataFrame.\n",
            "Try using .loc[row_indexer,col_indexer] = value instead\n",
            "\n",
            "See the caveats in the documentation: https://pandas.pydata.org/pandas-docs/stable/user_guide/indexing.html#returning-a-view-versus-a-copy\n",
            "  after removing the cwd from sys.path.\n"
          ],
          "name": "stderr"
        }
      ]
    },
    {
      "cell_type": "code",
      "metadata": {
        "colab": {
          "base_uri": "https://localhost:8080/"
        },
        "id": "SMQbj6mhk2cR",
        "outputId": "1371898e-db63-48ad-f507-3077c9c781e4"
      },
      "source": [
        "print(df.tail())"
      ],
      "execution_count": 80,
      "outputs": [
        {
          "output_type": "stream",
          "text": [
            "            Adj. Close  Prediction\n",
            "Date                              \n",
            "2018-03-21      169.39         NaN\n",
            "2018-03-22      164.89         NaN\n",
            "2018-03-23      159.39         NaN\n",
            "2018-03-26      160.06         NaN\n",
            "2018-03-27      152.19         NaN\n"
          ],
          "name": "stdout"
        }
      ]
    },
    {
      "cell_type": "code",
      "metadata": {
        "colab": {
          "base_uri": "https://localhost:8080/"
        },
        "id": "NUG1Af9ftqpa",
        "outputId": "3bbfd397-5deb-4db4-82bf-159ce26ef9ae"
      },
      "source": [
        "### Create the independent data set (X) ###\r\n",
        "# Convert the datagrame to a numpy array\r\n",
        "X = np.array(df.drop(['Prediction'],1))\r\n",
        "# Remove the last 'n' row\r\n",
        "X = X[:-forecast_out]\r\n",
        "print(X)\r\n"
      ],
      "execution_count": 81,
      "outputs": [
        {
          "output_type": "stream",
          "text": [
            "[[ 38.2318]\n",
            " [ 34.03  ]\n",
            " [ 31.    ]\n",
            " ...\n",
            " [171.5499]\n",
            " [175.98  ]\n",
            " [176.41  ]]\n"
          ],
          "name": "stdout"
        }
      ]
    },
    {
      "cell_type": "code",
      "metadata": {
        "colab": {
          "base_uri": "https://localhost:8080/"
        },
        "id": "yFU3aBXFwNkL",
        "outputId": "397bfec9-eee8-4ec5-b45f-f08874153b0c"
      },
      "source": [
        "### Create the dependent data set (y) ###\r\n",
        "# Convert the datagrame to a numpy array (All of the values including the NaN's)\r\n",
        "y = np.array(df['Prediction'])\r\n",
        "# Get all of the y values except the last 'n'rows\r\n",
        "y = y[:-forecast_out]\r\n",
        "print(y)"
      ],
      "execution_count": 82,
      "outputs": [
        {
          "output_type": "stream",
          "text": [
            "[ 30.771  31.2    31.47  ... 159.39  160.06  152.19 ]\n"
          ],
          "name": "stdout"
        }
      ]
    },
    {
      "cell_type": "code",
      "metadata": {
        "id": "oVuCmianv5BB"
      },
      "source": [
        "# Split the data into 80% training and 20% testing\r\n",
        "x_train,x_test,y_train,y_test = train_test_split(X,y, test_size = 0.2)"
      ],
      "execution_count": 83,
      "outputs": []
    },
    {
      "cell_type": "code",
      "metadata": {
        "colab": {
          "base_uri": "https://localhost:8080/"
        },
        "id": "a6jpuuRAMVtB",
        "outputId": "736a8927-fc77-4000-e1d3-87b3f9a8e503"
      },
      "source": [
        "# Create and train the Support Vector Machine (Regressor)\r\n",
        "svr_rbf = SVR(kernel='rbf',C=1e3, gamma=0.1)\r\n",
        "svr_rbf.fit(x_train, y_train)"
      ],
      "execution_count": 84,
      "outputs": [
        {
          "output_type": "execute_result",
          "data": {
            "text/plain": [
              "SVR(C=1000.0, cache_size=200, coef0=0.0, degree=3, epsilon=0.1, gamma=0.1,\n",
              "    kernel='rbf', max_iter=-1, shrinking=True, tol=0.001, verbose=False)"
            ]
          },
          "metadata": {
            "tags": []
          },
          "execution_count": 84
        }
      ]
    },
    {
      "cell_type": "code",
      "metadata": {
        "id": "_FJ2EE1uNBnP",
        "colab": {
          "base_uri": "https://localhost:8080/"
        },
        "outputId": "f0a174b9-81f1-4d00-da45-bd21ef2bb573"
      },
      "source": [
        "# Testing Model: Score returns the coefficient of determination R^2 of the prediction\r\n",
        "# The best possible score is 1.0\r\n",
        "svm_confidence = svr_rbf.score(x_test,y_test)\r\n",
        "print(\"svm confidence: \", svm_confidence)\r\n"
      ],
      "execution_count": 85,
      "outputs": [
        {
          "output_type": "stream",
          "text": [
            "svm confidence:  0.9824767216835069\n"
          ],
          "name": "stdout"
        }
      ]
    },
    {
      "cell_type": "code",
      "metadata": {
        "colab": {
          "base_uri": "https://localhost:8080/"
        },
        "id": "Vt7zJbg_A9Gz",
        "outputId": "c92d06f8-6b46-4949-9e17-2fa17cd1fb86"
      },
      "source": [
        "# Create and train the Linear Regression Model\r\n",
        "lr = LinearRegression()\r\n",
        "# Train the Model\r\n",
        "lr.fit(x_train, y_train)"
      ],
      "execution_count": 86,
      "outputs": [
        {
          "output_type": "execute_result",
          "data": {
            "text/plain": [
              "LinearRegression(copy_X=True, fit_intercept=True, n_jobs=None, normalize=False)"
            ]
          },
          "metadata": {
            "tags": []
          },
          "execution_count": 86
        }
      ]
    },
    {
      "cell_type": "code",
      "metadata": {
        "colab": {
          "base_uri": "https://localhost:8080/"
        },
        "id": "Uilg86ynBgMM",
        "outputId": "49e3ff5f-6552-4a0f-8d88-c2ce3131b06b"
      },
      "source": [
        "# Testing Model: Score returns the coefficient of determination R^2 of the prediction\r\n",
        "# The best possible score is 1.0\r\n",
        "lr_confidence = lr.score(x_test,y_test)\r\n",
        "print(\"lr confidence: \", lr_confidence)"
      ],
      "execution_count": 87,
      "outputs": [
        {
          "output_type": "stream",
          "text": [
            "lr confidence:  0.9792249025429927\n"
          ],
          "name": "stdout"
        }
      ]
    },
    {
      "cell_type": "code",
      "metadata": {
        "colab": {
          "base_uri": "https://localhost:8080/"
        },
        "id": "0bvPMP9eB7sR",
        "outputId": "f8ce3aac-b8db-4670-c3ca-7e8b0e93ae9d"
      },
      "source": [
        "# Set x_forecast equal to the last 30 rows of the original data set from Adj. Close column\r\n",
        "x_forecast = np.array(df.drop(['Prediction'],1))[-forecast_out:]\r\n",
        "print(x_forecast)"
      ],
      "execution_count": 88,
      "outputs": [
        {
          "output_type": "stream",
          "text": [
            "[[173.15]\n",
            " [179.52]\n",
            " [179.96]\n",
            " [177.36]\n",
            " [176.01]\n",
            " [177.91]\n",
            " [178.99]\n",
            " [183.29]\n",
            " [184.93]\n",
            " [181.46]\n",
            " [178.32]\n",
            " [175.94]\n",
            " [176.62]\n",
            " [180.4 ]\n",
            " [179.78]\n",
            " [183.71]\n",
            " [182.34]\n",
            " [185.23]\n",
            " [184.76]\n",
            " [181.88]\n",
            " [184.19]\n",
            " [183.86]\n",
            " [185.09]\n",
            " [172.56]\n",
            " [168.15]\n",
            " [169.39]\n",
            " [164.89]\n",
            " [159.39]\n",
            " [160.06]\n",
            " [152.19]]\n"
          ],
          "name": "stdout"
        }
      ]
    },
    {
      "cell_type": "code",
      "metadata": {
        "colab": {
          "base_uri": "https://localhost:8080/"
        },
        "id": "7GcLv8qFDbRq",
        "outputId": "708926bb-a96b-4e8d-8d4a-12ffc806f074"
      },
      "source": [
        "# Print linear regression model predictions for the next 'n' days\r\n",
        "lr_prediction = lr.predict(x_forecast)\r\n",
        "print(lr_prediction)\r\n",
        "\r\n",
        "# Print support vector regression model predictions for the next 'n' days\r\n",
        "svm_prediction = svr_rbf.predict(x_forecast)\r\n",
        "print(svm_prediction)"
      ],
      "execution_count": 89,
      "outputs": [
        {
          "output_type": "stream",
          "text": [
            "[177.08725448 183.52431676 183.968949   181.34157664 179.97736407\n",
            " 181.89736695 182.98873701 187.33400668 188.99127232 185.48474075\n",
            " 182.31168336 179.90662712 180.59378605 184.41358125 183.78705399\n",
            " 187.75842837 186.37400524 189.29443067 188.81948259 185.90916244\n",
            " 188.24348173 187.91000754 189.15295677 176.49104306 172.03461532\n",
            " 173.28766983 168.74029459 163.18239153 163.85944517 155.90659115]\n",
            "[176.9772862  181.21669313 179.89413781 174.5914663  171.63664029\n",
            " 177.8475503  181.89126625 187.20647005 179.04419262 181.17386159\n",
            " 180.11086532 171.6882011  171.89274521 178.83637012 180.45731349\n",
            " 185.31177969 186.33961294 178.72933492 179.52391138 183.72822511\n",
            " 182.38192958 184.43024422 178.79049423 178.3644724  171.31480923\n",
            " 171.95800365 171.84232589 167.34492454 167.89151319 161.63256574]\n"
          ],
          "name": "stdout"
        }
      ]
    }
  ]
}